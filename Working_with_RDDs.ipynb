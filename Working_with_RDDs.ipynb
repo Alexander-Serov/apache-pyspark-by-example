{
 "cells": [
  {
   "cell_type": "markdown",
   "id": "6f93f4a2",
   "metadata": {},
   "source": [
    "# RDDs\n",
    "\n",
    "Resilient Distributed Datasets. An RDD is an immutable partitioned collection of records that can be worked in parallel. Now, remember that with a DataFrame, each record is a structured row containing fields with a known schema. In the case of RDD, the records are just Java, Scala, or Python objects. And so you have complete control over them. Although this has several advantages, there are a couple of challenges. Spark does not understand the inner workings of your records as it does with your DataFrames. This means that the optimizations you would have automatically got with DataFrames, you will need to manually recreate. The RDD APIs are available in Python as well as Scala and Java. You can get good performace with running RDDs with Scala and Java. However, running Python RDDs, is like running Python user-defined functions row by row. So we need to serialize the data to the Python process, work on it in Python and then serialize it back to the Java Virtual Machine. For this reason, it's recommended to stick with the the high level APIs in Spark and only use RDDs when absolutely necessary."
   ]
  },
  {
   "cell_type": "markdown",
   "id": "34286e0a",
   "metadata": {},
   "source": [
    "## Import"
   ]
  },
  {
   "cell_type": "code",
   "execution_count": 1,
   "id": "36bfc3c1",
   "metadata": {},
   "outputs": [],
   "source": [
    "import findspark\n",
    "findspark.init()\n",
    "\n",
    "import pyspark\n",
    "from pyspark.sql import SparkSession"
   ]
  },
  {
   "cell_type": "markdown",
   "id": "37a91150",
   "metadata": {},
   "source": [
    "## SparkSession and SparkContext"
   ]
  },
  {
   "cell_type": "code",
   "execution_count": 2,
   "id": "768f7174",
   "metadata": {},
   "outputs": [],
   "source": [
    "spark = (\n",
    "    SparkSession\n",
    "        .builder\n",
    "        .getOrCreate()\n",
    ")\n",
    "\n",
    "sc = spark.sparkContext"
   ]
  },
  {
   "cell_type": "markdown",
   "id": "b9054c1e",
   "metadata": {},
   "source": [
    "## RDDs setup"
   ]
  },
  {
   "cell_type": "code",
   "execution_count": 3,
   "id": "5d28947a",
   "metadata": {},
   "outputs": [
    {
     "name": "stderr",
     "output_type": "stream",
     "text": [
      "                                                                                \r"
     ]
    },
    {
     "data": {
      "text/plain": [
       "'DISTRICT,DISTRICT NAME,ADDRESS,CITY,STATE,ZIP,WEBSITE,PHONE,FAX,TTY,X COORDINATE,Y COORDINATE,LATITUDE,LONGITUDE,LOCATION'"
      ]
     },
     "execution_count": 3,
     "metadata": {},
     "output_type": "execute_result"
    }
   ],
   "source": [
    "import os\n",
    "\n",
    "data_path = 'file:///' + os.getcwd() + '/data'\n",
    "\n",
    "file_path = data_path + '/police-stations.csv'\n",
    "ps_rdd = sc.textFile(file_path)\n",
    "ps_rdd.first()"
   ]
  },
  {
   "cell_type": "code",
   "execution_count": 4,
   "id": "67619c88",
   "metadata": {},
   "outputs": [],
   "source": [
    "ps_header = ps_rdd.first()"
   ]
  },
  {
   "cell_type": "code",
   "execution_count": 5,
   "id": "93766a58",
   "metadata": {},
   "outputs": [
    {
     "data": {
      "text/plain": [
       "'Headquarters,Headquarters,3510 S Michigan Ave,Chicago,IL,60653,http://home.chicagopolice.org,,,,1177731.401,1881697.404,41.83070169,-87.62339535,\"(41.8307016873, -87.6233953459)\"'"
      ]
     },
     "execution_count": 5,
     "metadata": {},
     "output_type": "execute_result"
    }
   ],
   "source": [
    "ps_rest = ps_rdd.filter(lambda line: line != ps_header)\n",
    "ps_rest.first()"
   ]
  },
  {
   "cell_type": "markdown",
   "id": "978a308a",
   "metadata": {},
   "source": [
    "**How many police stations are there?**"
   ]
  },
  {
   "cell_type": "code",
   "execution_count": 6,
   "id": "b5e74e80",
   "metadata": {},
   "outputs": [
    {
     "data": {
      "text/plain": [
       "24"
      ]
     },
     "execution_count": 6,
     "metadata": {},
     "output_type": "execute_result"
    }
   ],
   "source": [
    "ps_rest.map(lambda line: line.split(',')).count()"
   ]
  },
  {
   "cell_type": "markdown",
   "id": "4bf30d24",
   "metadata": {},
   "source": [
    "**Display the District ID, District name, Address and Zip for the police station with District ID 7**"
   ]
  },
  {
   "cell_type": "code",
   "execution_count": 7,
   "id": "fa2f0ebd",
   "metadata": {},
   "outputs": [
    {
     "data": {
      "text/plain": [
       "[('7', 'Englewood', '1438 W 63rd St', '60636')]"
      ]
     },
     "execution_count": 7,
     "metadata": {},
     "output_type": "execute_result"
    }
   ],
   "source": [
    "(ps_rest\n",
    "     .filter(lambda line: line.split(',')[0] == '7')\n",
    "     .map(lambda line: (line.split(',')[0],\n",
    "                        line.split(',')[1],\n",
    "                        line.split(',')[2],\n",
    "                        line.split(',')[5]\n",
    "                       )).collect())"
   ]
  },
  {
   "cell_type": "markdown",
   "id": "9b01a4e8",
   "metadata": {},
   "source": [
    "**Police stations 10 and 11 are geographically close to each other. District ID, District name, address and zip code**"
   ]
  },
  {
   "cell_type": "code",
   "execution_count": 8,
   "id": "83d598c6",
   "metadata": {},
   "outputs": [
    {
     "data": {
      "text/plain": [
       "[('Ogden', '3315 W Ogden Ave', '60623'),\n",
       " ('Harrison', '3151 W Harrison St', '60612')]"
      ]
     },
     "execution_count": 8,
     "metadata": {},
     "output_type": "execute_result"
    }
   ],
   "source": [
    "(ps_rest\n",
    "     .filter(lambda line: line.split(',')[0] in ['10', '11'])\n",
    "     .map(lambda line: (line.split(',')[1],\n",
    "                        line.split(',')[2],\n",
    "                        line.split(',')[5]\n",
    "                       )).collect())"
   ]
  }
 ],
 "metadata": {
  "kernelspec": {
   "display_name": "Python 3 (ipykernel)",
   "language": "python",
   "name": "python3"
  },
  "language_info": {
   "codemirror_mode": {
    "name": "ipython",
    "version": 3
   },
   "file_extension": ".py",
   "mimetype": "text/x-python",
   "name": "python",
   "nbconvert_exporter": "python",
   "pygments_lexer": "ipython3",
   "version": "3.8.11"
  }
 },
 "nbformat": 4,
 "nbformat_minor": 5
}
