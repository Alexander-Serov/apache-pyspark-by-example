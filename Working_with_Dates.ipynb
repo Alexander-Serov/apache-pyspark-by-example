{
 "cells": [
  {
   "cell_type": "markdown",
   "id": "0",
   "metadata": {},
   "source": [
    "## Working with Dates"
   ]
  },
  {
   "cell_type": "markdown",
   "id": "1",
   "metadata": {},
   "source": [
    "## Imports"
   ]
  },
  {
   "cell_type": "markdown",
   "id": "2",
   "metadata": {},
   "source": [
    "## SparkSession"
   ]
  },
  {
   "cell_type": "code",
   "execution_count": null,
   "id": "3",
   "metadata": {},
   "outputs": [],
   "source": [
    "spark = SparkSession.builder.getOrCreate()"
   ]
  },
  {
   "cell_type": "code",
   "execution_count": null,
   "id": "4",
   "metadata": {},
   "outputs": [],
   "source": []
  },
  {
   "cell_type": "markdown",
   "id": "5",
   "metadata": {},
   "source": [
    "**2019-12-25 13:30:00**"
   ]
  },
  {
   "cell_type": "code",
   "execution_count": null,
   "id": "6",
   "metadata": {},
   "outputs": [],
   "source": [
    "df = spark.createDataFrame([(\"2019-12-25 13:30:00\",)], [\"Christmas\"])\n",
    "\n",
    "df.show(1)"
   ]
  },
  {
   "cell_type": "code",
   "execution_count": null,
   "id": "7",
   "metadata": {},
   "outputs": [],
   "source": [
    "df.select(\n",
    "    to_date(col(\"Christmas\"), \"yyyy-MM-dd HH:mm:ss\"),\n",
    "    to_timestamp(col(\"Christmas\"), \"yyyy-MM-dd HH:mm:ss\"),\n",
    ").show(1)"
   ]
  },
  {
   "cell_type": "markdown",
   "id": "8",
   "metadata": {},
   "source": [
    "**25/Dec/2019 13:30:00**"
   ]
  },
  {
   "cell_type": "code",
   "execution_count": null,
   "id": "9",
   "metadata": {},
   "outputs": [],
   "source": [
    "df = spark.createDataFrame([(\"25/Dec/2019 13:30:00\",)], [\"Christmas\"])\n",
    "df.show(1)"
   ]
  },
  {
   "cell_type": "code",
   "execution_count": null,
   "id": "10",
   "metadata": {},
   "outputs": [],
   "source": [
    "df.select(\n",
    "    to_date(col(\"Christmas\"), \"dd/MMM/yyyy HH:mm:ss\"),\n",
    "    to_timestamp(col(\"Christmas\"), \"dd/MMM/yyyy HH:mm:ss\"),\n",
    ").show(1)"
   ]
  },
  {
   "cell_type": "markdown",
   "id": "11",
   "metadata": {},
   "source": [
    "**12/25/2019 01:30:00 PM**"
   ]
  },
  {
   "cell_type": "code",
   "execution_count": null,
   "id": "12",
   "metadata": {},
   "outputs": [],
   "source": [
    "df = spark.createDataFrame([(\"12/25/2019 01:30:00 PM\",)], [\"Christmas\"])\n",
    "df.show(1, truncate=False)"
   ]
  },
  {
   "cell_type": "markdown",
   "id": "13",
   "metadata": {},
   "source": [
    "## Changes in Datetime patterns in spark 3\n",
    "\n",
    "To continue using the datetime patterns in spark 2, use `spark.sql(\"set spark.sql.legacy.timeParserPolicy=LEGACY\")` otherwise for spark 3 datetime patterns use only one letter as shown below. For more on datetime patterns changes in spark 3, please refer to the [docs](https://spark.apache.org/docs/latest/sql-ref-datetime-pattern.html)."
   ]
  },
  {
   "cell_type": "code",
   "execution_count": null,
   "id": "14",
   "metadata": {},
   "outputs": [],
   "source": [
    "df.select(\n",
    "    to_date(col(\"Christmas\"), \"M/d/y h:m:s a\"),\n",
    "    to_timestamp(col(\"Christmas\"), \"M/d/y h:m:s a\"),\n",
    ").show(1)"
   ]
  },
  {
   "cell_type": "markdown",
   "id": "15",
   "metadata": {},
   "source": [
    "## Display\n",
    "\n",
    "Set the browser to display scrollable dataframes."
   ]
  },
  {
   "cell_type": "code",
   "execution_count": null,
   "id": "16",
   "metadata": {},
   "outputs": [],
   "source": [
    "display(HTML(\"<style>pre {white-space: pre !important; }</style>\"))"
   ]
  },
  {
   "cell_type": "code",
   "execution_count": null,
   "id": "17",
   "metadata": {},
   "outputs": [],
   "source": [
    "data_path = \"file:///\" + os.getcwd() + \"/data\"\n",
    "\n",
    "file_path = data_path + \"/reported-crimes.csv\"\n",
    "\n",
    "crimes_df = spark.read.csv(file_path, header=True)\n",
    "\n",
    "crimes_df.show(5, truncate=False)"
   ]
  }
 ],
 "metadata": {
  "kernelspec": {
   "display_name": "Python 3 (ipykernel)",
   "language": "python",
   "name": "python3"
  },
  "language_info": {
   "codemirror_mode": {
    "name": "ipython",
    "version": 3
   },
   "file_extension": ".py",
   "mimetype": "text/x-python",
   "name": "python",
   "nbconvert_exporter": "python",
   "pygments_lexer": "ipython3",
   "version": "3.8.11"
  }
 },
 "nbformat": 4,
 "nbformat_minor": 5
}
