{
 "cells": [
  {
   "cell_type": "markdown",
   "id": "0",
   "metadata": {},
   "source": [
    "# Working with Joins"
   ]
  },
  {
   "cell_type": "markdown",
   "id": "1",
   "metadata": {},
   "source": [
    "## Imports"
   ]
  },
  {
   "cell_type": "code",
   "execution_count": null,
   "id": "2",
   "metadata": {},
   "outputs": [],
   "source": [
    "import os\n",
    "\n",
    "import findspark\n",
    "import matplotlib.pyplot as plt\n",
    "import pandas as pd\n",
    "import pyspark\n",
    "\n",
    "# Set display for scrolling dataframes\n",
    "from IPython.core.display import HTML\n",
    "from pyspark.sql import SparkSession\n",
    "from pyspark.sql.functions import col, date_format, dayofweek, lit, lpad, to_timestamp\n",
    "\n",
    "findspark.init()"
   ]
  },
  {
   "cell_type": "markdown",
   "id": "3",
   "metadata": {},
   "source": [
    "## SparkSession"
   ]
  },
  {
   "cell_type": "code",
   "execution_count": null,
   "id": "4",
   "metadata": {},
   "outputs": [],
   "source": [
    "spark = SparkSession.builder.getOrCreate()"
   ]
  },
  {
   "cell_type": "markdown",
   "id": "5",
   "metadata": {},
   "source": [
    "## Load the data\n",
    "\n",
    "Load the Chicago reported crimes dataset."
   ]
  },
  {
   "cell_type": "code",
   "execution_count": null,
   "id": "6",
   "metadata": {},
   "outputs": [],
   "source": [
    "display(HTML(\"<style>pre {white-space: pre !important; }</style>\"))"
   ]
  },
  {
   "cell_type": "code",
   "execution_count": null,
   "id": "7",
   "metadata": {},
   "outputs": [],
   "source": [
    "data_path = \"file:///\" + os.getcwd() + \"/data\"\n",
    "\n",
    "file_path = data_path + \"/reported-crimes.csv\"\n",
    "\n",
    "crimes_df = (\n",
    "    spark.read.option(\"header\", \"true\")\n",
    "    .csv(file_path)\n",
    "    .withColumn(\"Date\", to_timestamp(col(\"Date\"), \"M/d/y h:m:s a\"))\n",
    "    .filter(col(\"Date\") <= lit(\"2018-11-11\"))\n",
    ")\n",
    "\n",
    "crimes_df.show(5)"
   ]
  },
  {
   "cell_type": "markdown",
   "id": "8",
   "metadata": {},
   "source": [
    "## Download police station data\n",
    "\n",
    "In addition to the reported crimes dataset, we are going to download the police station dataset from the city of Chicago Data Portal. The data can be downloaded on the commandline using wget:\n",
    "\n",
    "`$ !wget -O data/police-stations.csv 'https://data.cityofchicago.org/api/views/z8bn-74gv/rows.csv?accessType=DOWNLOAD'`"
   ]
  },
  {
   "cell_type": "code",
   "execution_count": null,
   "id": "9",
   "metadata": {},
   "outputs": [],
   "source": [
    "!wget -O data/police-stations.csv 'https://data.cityofchicago.org/api/views/z8bn-74gv/rows.csv?accessType=DOWNLOAD'"
   ]
  },
  {
   "cell_type": "code",
   "execution_count": null,
   "id": "10",
   "metadata": {},
   "outputs": [],
   "source": [
    "file_path = data_path + \"/police-stations.csv\"\n",
    "\n",
    "police_station_df = spark.read.csv(file_path, header=True)\n",
    "\n",
    "police_station_df.show(5)"
   ]
  },
  {
   "cell_type": "markdown",
   "id": "11",
   "metadata": {},
   "source": [
    "**The reported crimes dataset has only one district number. Add the district name by joining with the police station dataset**"
   ]
  },
  {
   "cell_type": "code",
   "execution_count": null,
   "id": "12",
   "metadata": {},
   "outputs": [],
   "source": [
    "# crimes_df.cache()\n",
    "# crimes_df.count()"
   ]
  },
  {
   "cell_type": "code",
   "execution_count": null,
   "id": "13",
   "metadata": {},
   "outputs": [],
   "source": [
    "police_station_df.select(col(\"District\")).distinct().show(5)"
   ]
  },
  {
   "cell_type": "code",
   "execution_count": null,
   "id": "14",
   "metadata": {},
   "outputs": [],
   "source": [
    "crimes_df.select(\"District\").distinct().show(5)"
   ]
  },
  {
   "cell_type": "code",
   "execution_count": null,
   "id": "15",
   "metadata": {},
   "outputs": [],
   "source": []
  },
  {
   "cell_type": "code",
   "execution_count": null,
   "id": "16",
   "metadata": {},
   "outputs": [],
   "source": [
    "police_station_df.select(lpad(col(\"District\"), 3, \"0\")).show(30)"
   ]
  },
  {
   "cell_type": "code",
   "execution_count": null,
   "id": "17",
   "metadata": {},
   "outputs": [],
   "source": [
    "police_station_df = police_station_df.withColumn(\n",
    "    \"Format_district\", lpad(col(\"District\"), 3, \"0\")\n",
    ")"
   ]
  },
  {
   "cell_type": "code",
   "execution_count": null,
   "id": "18",
   "metadata": {},
   "outputs": [],
   "source": [
    "police_station_df.show(5)"
   ]
  },
  {
   "cell_type": "code",
   "execution_count": null,
   "id": "19",
   "metadata": {},
   "outputs": [],
   "source": [
    "crimes_df.join(\n",
    "    police_station_df,\n",
    "    crimes_df.District == police_station_df.Format_district,\n",
    "    \"left_outer\",\n",
    ").show(10)"
   ]
  },
  {
   "cell_type": "code",
   "execution_count": null,
   "id": "20",
   "metadata": {},
   "outputs": [],
   "source": [
    "police_station_df.columns"
   ]
  },
  {
   "cell_type": "code",
   "execution_count": null,
   "id": "21",
   "metadata": {},
   "outputs": [],
   "source": [
    "(\n",
    "    crimes_df.join(\n",
    "        police_station_df,\n",
    "        crimes_df.District == police_station_df.Format_district,\n",
    "        \"left_outer\",\n",
    "    )\n",
    "    .drop(*drop_columns)\n",
    "    .show(5)\n",
    ")"
   ]
  },
  {
   "cell_type": "markdown",
   "id": "22",
   "metadata": {},
   "source": [
    "## Challenge Questions"
   ]
  },
  {
   "cell_type": "code",
   "execution_count": null,
   "id": "23",
   "metadata": {},
   "outputs": [],
   "source": [
    "crimes_df.select(col(\"Primary Type\")).distinct().count()"
   ]
  },
  {
   "cell_type": "code",
   "execution_count": null,
   "id": "24",
   "metadata": {},
   "outputs": [],
   "source": [
    "(\n",
    "    crimes_df.select(col(\"Primary Type\"))\n",
    "    .distinct()\n",
    "    .orderBy(col(\"Primary Type\"))\n",
    "    .show(36, truncate=False)\n",
    ")"
   ]
  },
  {
   "cell_type": "code",
   "execution_count": null,
   "id": "25",
   "metadata": {},
   "outputs": [],
   "source": [
    "non_criminal_df = crimes_df.filter(\n",
    "    (col(\"Primary Type\") == \"NON - CRIMINAL\")\n",
    "    | (col(\"Primary Type\") == \"NON-CRIMINAL\")\n",
    "    | (col(\"Primary Type\") == \"NON-CRIMINAL (SUBJECT SPECIFIED)\")\n",
    ")\n",
    "\n",
    "non_criminal_df.show(10)"
   ]
  },
  {
   "cell_type": "code",
   "execution_count": null,
   "id": "26",
   "metadata": {},
   "outputs": [],
   "source": [
    "(\n",
    "    non_criminal_df.groupBy(col(\"Description\"))\n",
    "    .count()\n",
    "    .orderBy(\"count\", ascending=False)\n",
    "    .show(truncate=False)\n",
    ")"
   ]
  },
  {
   "cell_type": "markdown",
   "id": "27",
   "metadata": {},
   "source": [
    "**Which day of the week has the most number of reported crime?**"
   ]
  },
  {
   "cell_type": "code",
   "execution_count": null,
   "id": "28",
   "metadata": {},
   "outputs": [],
   "source": []
  },
  {
   "cell_type": "code",
   "execution_count": null,
   "id": "29",
   "metadata": {},
   "outputs": [],
   "source": [
    "crimes_df.show(5)"
   ]
  },
  {
   "cell_type": "code",
   "execution_count": null,
   "id": "30",
   "metadata": {},
   "outputs": [],
   "source": [
    "(crimes_df.select(col(\"Date\"), dayofweek(col(\"Date\"))).show(5))"
   ]
  },
  {
   "cell_type": "code",
   "execution_count": null,
   "id": "31",
   "metadata": {},
   "outputs": [],
   "source": []
  },
  {
   "cell_type": "code",
   "execution_count": null,
   "id": "32",
   "metadata": {},
   "outputs": [],
   "source": [
    "(\n",
    "    crimes_df.select(\n",
    "        col(\"Date\"), dayofweek(col(\"Date\")), date_format(col(\"Date\"), \"E\")\n",
    "    ).show(5)\n",
    ")"
   ]
  },
  {
   "cell_type": "code",
   "execution_count": null,
   "id": "33",
   "metadata": {},
   "outputs": [],
   "source": [
    "(\n",
    "    crimes_df.groupBy(date_format(col(\"Date\"), \"E\"))\n",
    "    .count()\n",
    "    .orderBy(\"count\", ascending=False)\n",
    "    .show()\n",
    ")"
   ]
  },
  {
   "cell_type": "code",
   "execution_count": null,
   "id": "34",
   "metadata": {},
   "outputs": [],
   "source": [
    "day_counts = crimes_df.groupBy(date_format(col(\"Date\"), \"E\")).count().collect()\n",
    "\n",
    "day_counts"
   ]
  },
  {
   "cell_type": "code",
   "execution_count": null,
   "id": "35",
   "metadata": {},
   "outputs": [],
   "source": [
    "dow = [x[0] for x in day_counts]\n",
    "dow"
   ]
  },
  {
   "cell_type": "code",
   "execution_count": null,
   "id": "36",
   "metadata": {},
   "outputs": [],
   "source": [
    "cnt = [x[1] for x in day_counts]\n",
    "cnt"
   ]
  },
  {
   "cell_type": "code",
   "execution_count": null,
   "id": "37",
   "metadata": {},
   "outputs": [],
   "source": [
    "count_df = pd.DataFrame({\"Day_of_week\": dow, \"Count\": cnt})\n",
    "count_df.head()"
   ]
  },
  {
   "cell_type": "code",
   "execution_count": null,
   "id": "38",
   "metadata": {},
   "outputs": [],
   "source": [
    "count_df.sort_values(\"Count\", ascending=False).plot(\n",
    "    kind=\"bar\", color=\"olive\", x=\"Day_of_week\", y=\"Count\"\n",
    ")\n",
    "\n",
    "plt.xlabel(\"Day of the week\")\n",
    "plt.ylabel(\"No. of reported crimes\")\n",
    "plt.title(\"No. of reported crimes per day of the week from 2001 to present\")\n",
    "\n",
    "ax = plt.gca()\n",
    "ttl = ax.title\n",
    "ttl.set_position([0.5, 1.1])"
   ]
  }
 ],
 "metadata": {
  "kernelspec": {
   "display_name": "Python 3 (ipykernel)",
   "language": "python",
   "name": "python3"
  },
  "language_info": {
   "codemirror_mode": {
    "name": "ipython",
    "version": 3
   },
   "file_extension": ".py",
   "mimetype": "text/x-python",
   "name": "python",
   "nbconvert_exporter": "python",
   "pygments_lexer": "ipython3",
   "version": "3.8.11"
  }
 },
 "nbformat": 4,
 "nbformat_minor": 5
}
