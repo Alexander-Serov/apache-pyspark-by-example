{
 "cells": [
  {
   "cell_type": "markdown",
   "metadata": {
    "id": "8qf-TmnsBgXd"
   },
   "source": [
    "# Resillent Dristibuted Datasets (RDDs)"
   ]
  },
  {
   "cell_type": "markdown",
   "metadata": {
    "id": "Dd6t0uFzuR4X"
   },
   "source": [
    "## Download and install Spark"
   ]
  },
  {
   "cell_type": "code",
   "execution_count": null,
   "metadata": {
    "colab": {
     "base_uri": "https://localhost:8080/"
    },
    "id": "zToS5PqxBXpK",
    "outputId": "77e78549-20ba-40ee-cb15-f117af893e71"
   },
   "outputs": [],
   "source": [
    "import os\n",
    "\n",
    "import findspark\n",
    "from pyspark import SparkContext\n",
    "from pyspark.sql import SparkSession\n",
    "\n",
    "!ls"
   ]
  },
  {
   "cell_type": "code",
   "execution_count": null,
   "metadata": {
    "colab": {
     "base_uri": "https://localhost:8080/"
    },
    "id": "tt7ZS1_wGgjn",
    "outputId": "780346e6-a6c4-4feb-9f9c-0a0b0d90b29f"
   },
   "outputs": [],
   "source": [
    "!apt-get update\n",
    "!apt-get install openjdk-8-jdk-headless -qq > /dev/null\n",
    "!wget -q http://archive.apache.org/dist/spark/spark-2.3.1/spark-2.3.1-bin-hadoop2.7.tgz\n",
    "!tar xf spark-2.3.1-bin-hadoop2.7.tgz\n",
    "!pip install -q findspark"
   ]
  },
  {
   "cell_type": "markdown",
   "metadata": {
    "id": "FEuEkV0BlzAD"
   },
   "source": [
    "## Setup environment"
   ]
  },
  {
   "cell_type": "code",
   "execution_count": null,
   "metadata": {
    "colab": {
     "base_uri": "https://localhost:8080/",
     "height": 219
    },
    "id": "sdOOq4twHN1K",
    "outputId": "41e4ed9e-5d37-4d3b-f694-3aadaa8e7433"
   },
   "outputs": [],
   "source": [
    "os.environ[\"JAVA_HOME\"] = \"/usr/lib/jvm/java-8-openjdk-amd64\"\n",
    "os.environ[\"SPARK_HOME\"] = \"/content/spark-2.3.1-bin-hadoop2.7\"\n",
    "\n",
    "\n",
    "findspark.init()\n",
    "\n",
    "sc = SparkContext.getOrCreate()\n",
    "\n",
    "\n",
    "spark = SparkSession.builder.getOrCreate()\n",
    "spark"
   ]
  },
  {
   "cell_type": "markdown",
   "metadata": {
    "id": "0ysUlfFrN5OD"
   },
   "source": [
    "## Downloading Chicago's police station dataset"
   ]
  },
  {
   "cell_type": "code",
   "execution_count": null,
   "metadata": {
    "colab": {
     "base_uri": "https://localhost:8080/"
    },
    "id": "FDtw5Hy3N-pV",
    "outputId": "e08e96e8-0122-46df-ae22-47b95fe4aae5"
   },
   "outputs": [],
   "source": [
    "!wget -O police-stations.csv https://data.cityofchicago.org/api/views/z8bn-74gv/rows.csv?accessType=DOWNLOAD\n",
    "!ls -l"
   ]
  },
  {
   "cell_type": "markdown",
   "metadata": {
    "id": "mI_zYOVpf2yK"
   },
   "source": [
    "## RDDs setup"
   ]
  },
  {
   "cell_type": "code",
   "execution_count": null,
   "metadata": {
    "id": "808f1HzwgDyh"
   },
   "outputs": [],
   "source": [
    "ps_rdd = sc.textFile(\"police-stations.csv\")"
   ]
  },
  {
   "cell_type": "code",
   "execution_count": null,
   "metadata": {
    "colab": {
     "base_uri": "https://localhost:8080/",
     "height": 36
    },
    "id": "PeeOFy5cgDRq",
    "outputId": "4e172b8a-00f3-4676-c240-5c5edb1fb5c9"
   },
   "outputs": [],
   "source": [
    "ps_rdd.first()"
   ]
  },
  {
   "cell_type": "code",
   "execution_count": null,
   "metadata": {
    "id": "qLS_NEpEgDBJ"
   },
   "outputs": [],
   "source": [
    "# set the header\n",
    "\n",
    "ps_header = ps_rdd.first()"
   ]
  },
  {
   "cell_type": "code",
   "execution_count": null,
   "metadata": {
    "id": "E7NuMVpygC2h"
   },
   "outputs": [],
   "source": [
    "# get the data body\n",
    "\n",
    "ps_body = ps_rdd.filter(lambda line: line != ps_header)"
   ]
  },
  {
   "cell_type": "code",
   "execution_count": null,
   "metadata": {
    "colab": {
     "base_uri": "https://localhost:8080/",
     "height": 36
    },
    "id": "5uC0WTu8KI59",
    "outputId": "4a562ba8-d6b0-4194-ea1d-6c7483baae8b"
   },
   "outputs": [],
   "source": [
    "ps_body.first()"
   ]
  },
  {
   "cell_type": "markdown",
   "metadata": {
    "id": "KNJZJIwa54lt"
   },
   "source": [
    "-------"
   ]
  },
  {
   "cell_type": "markdown",
   "metadata": {
    "id": "ShYgMK6jPsSt"
   },
   "source": [
    "**How many police stations are there?**"
   ]
  },
  {
   "cell_type": "code",
   "execution_count": null,
   "metadata": {
    "colab": {
     "base_uri": "https://localhost:8080/"
    },
    "id": "2FbZPk84Pwxc",
    "outputId": "9532a97f-6bce-457a-bdb8-2d928df886a7"
   },
   "outputs": [],
   "source": [
    "# we can split row\n",
    "\n",
    "ps_body.map(lambda line: line.split(\",\")).collect()"
   ]
  },
  {
   "cell_type": "code",
   "execution_count": null,
   "metadata": {
    "colab": {
     "base_uri": "https://localhost:8080/"
    },
    "id": "Iv-dVhhhPwrO",
    "outputId": "131a4f0a-4062-4d08-ceba-18a55a0286dc"
   },
   "outputs": [],
   "source": [
    "ps_body.map(lambda line: line.split(\",\")).count()"
   ]
  },
  {
   "cell_type": "markdown",
   "metadata": {
    "id": "_v5XiUMV6Z2d"
   },
   "source": [
    "------\n"
   ]
  },
  {
   "cell_type": "markdown",
   "metadata": {
    "id": "WKYiypY0MbJ1"
   },
   "source": [
    "**Display the District ID, District name, Address and Zip for the police station with District ID 7**\n",
    "\n"
   ]
  },
  {
   "cell_type": "code",
   "execution_count": null,
   "metadata": {
    "colab": {
     "base_uri": "https://localhost:8080/",
     "height": 36
    },
    "id": "JkUF4yJFgG25",
    "outputId": "4191ab77-d080-4d43-c48e-7e44a8fe978a"
   },
   "outputs": [],
   "source": [
    "ps_header"
   ]
  },
  {
   "cell_type": "code",
   "execution_count": null,
   "metadata": {
    "colab": {
     "base_uri": "https://localhost:8080/"
    },
    "id": "Z6dW5knty7pT",
    "outputId": "c5eb8045-728c-46f9-bbab-67defba9484a"
   },
   "outputs": [],
   "source": [
    "(ps_body.filter(lambda line: line.split(\",\")[0] == \"7\")).map(\n",
    "    lambda line: (\n",
    "        line.split(\",\")[0],\n",
    "        line.split(\",\")[1],\n",
    "        line.split(\",\")[2],\n",
    "        line.split(\",\")[5],\n",
    "    )\n",
    ").collect()"
   ]
  },
  {
   "cell_type": "markdown",
   "metadata": {
    "id": "m_T2opMt76zf"
   },
   "source": [
    "-----"
   ]
  },
  {
   "cell_type": "markdown",
   "metadata": {
    "id": "1mWxQg2mN4W7"
   },
   "source": [
    "**Police stations 10 and 11 are geographically close to each other. Display the District ID, District name, address and zip code**"
   ]
  },
  {
   "cell_type": "code",
   "execution_count": null,
   "metadata": {
    "colab": {
     "base_uri": "https://localhost:8080/"
    },
    "id": "9DiIzEr-Gadn",
    "outputId": "ea2d2ed9-a96b-46b3-9a0b-127c340ef76c"
   },
   "outputs": [],
   "source": [
    "(\n",
    "    ps_body.filter(lambda line: line.split(\",\")[0] in [\"10\", \"11\"])\n",
    "    .map(\n",
    "        lambda line: (\n",
    "            line.split(\",\")[0],\n",
    "            line.split(\",\")[1],\n",
    "            line.split(\",\")[2],\n",
    "            line.split(\",\")[5],\n",
    "        )\n",
    "    )\n",
    "    .collect()\n",
    ")"
   ]
  }
 ],
 "metadata": {
  "colab": {
   "collapsed_sections": [],
   "name": "RDDs.ipynb",
   "provenance": []
  },
  "kernelspec": {
   "display_name": "Python 3",
   "language": "python",
   "name": "python3"
  },
  "language_info": {
   "codemirror_mode": {
    "name": "ipython",
    "version": 3
   },
   "file_extension": ".py",
   "mimetype": "text/x-python",
   "name": "python",
   "nbconvert_exporter": "python",
   "pygments_lexer": "ipython3",
   "version": "3.6.5"
  }
 },
 "nbformat": 4,
 "nbformat_minor": 0
}
