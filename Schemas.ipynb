{
 "cells": [
  {
   "cell_type": "markdown",
   "id": "0",
   "metadata": {},
   "source": [
    "# Schemas\n",
    "\n",
    "Schema defines column names and what data type they are. For example, columns can have integer, string, date types etc. The different data types can be imported from the `pyspark.sql.types`."
   ]
  },
  {
   "cell_type": "markdown",
   "id": "1",
   "metadata": {},
   "source": [
    "## Import Libraries"
   ]
  },
  {
   "cell_type": "code",
   "execution_count": null,
   "id": "2",
   "metadata": {},
   "outputs": [],
   "source": [
    "import os\n",
    "\n",
    "import findspark\n",
    "\n",
    "# To display dataframes which can scroll horizontally\n",
    "from IPython.core.display import HTML\n",
    "from pyspark import SparkConf\n",
    "from pyspark.sql import SparkSession\n",
    "from pyspark.sql.functions import col, lit, to_timestamp\n",
    "from pyspark.sql.types import (\n",
    "    BooleanType,\n",
    "    DoubleType,\n",
    "    IntegerType,\n",
    "    StringType,\n",
    "    StructField,\n",
    "    StructType,\n",
    "    TimestampType,\n",
    ")\n",
    "\n",
    "findspark.init()"
   ]
  },
  {
   "cell_type": "markdown",
   "id": "3",
   "metadata": {},
   "source": [
    "## SparkSession"
   ]
  },
  {
   "cell_type": "code",
   "execution_count": null,
   "id": "4",
   "metadata": {},
   "outputs": [],
   "source": [
    "spark = SparkSession.builder.master(\"local\").config(conf=SparkConf()).getOrCreate()"
   ]
  },
  {
   "cell_type": "markdown",
   "id": "5",
   "metadata": {},
   "source": [
    "## Load the data"
   ]
  },
  {
   "cell_type": "code",
   "execution_count": null,
   "id": "6",
   "metadata": {},
   "outputs": [],
   "source": [
    "data_path = \"file:///\" + os.getcwd() + \"/data\"\n",
    "\n",
    "file_path = data_path + \"/reported-crimes.csv\"\n",
    "\n",
    "reported_crimes_df = (\n",
    "    spark.read.csv(file_path, header=True)\n",
    "    .withColumn(\"Date\", to_timestamp(col(\"Date\"), \"MM/dd/yyyy hh:mm:ss a\"))\n",
    "    .filter(col(\"Date\") <= lit(\"2018-11-11\"))\n",
    ")\n",
    "\n",
    "reported_crimes_df.show(5)"
   ]
  },
  {
   "cell_type": "code",
   "execution_count": null,
   "id": "7",
   "metadata": {},
   "outputs": [],
   "source": [
    "reported_crimes_df.printSchema()"
   ]
  },
  {
   "cell_type": "markdown",
   "id": "8",
   "metadata": {},
   "source": [
    "## Load with schema"
   ]
  },
  {
   "cell_type": "code",
   "execution_count": null,
   "id": "9",
   "metadata": {},
   "outputs": [],
   "source": []
  },
  {
   "cell_type": "code",
   "execution_count": null,
   "id": "10",
   "metadata": {},
   "outputs": [],
   "source": [
    "reported_crimes_df.columns"
   ]
  },
  {
   "cell_type": "code",
   "execution_count": null,
   "id": "11",
   "metadata": {},
   "outputs": [],
   "source": [
    "labels = [\n",
    "    (\"ID\", StringType()),\n",
    "    (\"Case Number\", StringType()),\n",
    "    (\"Date\", TimestampType()),\n",
    "    (\"Block\", StringType()),\n",
    "    (\"IUCR\", StringType()),\n",
    "    (\"Primary Type\", StringType()),\n",
    "    (\"Description\", StringType()),\n",
    "    (\"Location Description\", StringType()),\n",
    "    (\"Arrest\", StringType()),\n",
    "    (\"Domestic\", BooleanType()),\n",
    "    (\"Beat\", StringType()),\n",
    "    (\"District\", StringType()),\n",
    "    (\"Ward\", StringType()),\n",
    "    (\"Community Area\", StringType()),\n",
    "    (\"FBI Code\", StringType()),\n",
    "    (\"X Coordinate\", StringType()),\n",
    "    (\"Y Coordinate\", StringType()),\n",
    "    (\"Year\", IntegerType()),\n",
    "    (\"Updated On\", StringType()),\n",
    "    (\"Latitude\", DoubleType()),\n",
    "    (\"Longitude\", DoubleType()),\n",
    "    (\"Location\", StringType()),\n",
    "]\n",
    "\n",
    "schema = StructType([StructField(x[0], x[1], True) for x in labels])\n",
    "schema"
   ]
  },
  {
   "cell_type": "code",
   "execution_count": null,
   "id": "12",
   "metadata": {},
   "outputs": [],
   "source": [
    "new_reported_crimes_df = spark.read.csv(file_path, schema=schema)\n",
    "\n",
    "new_reported_crimes_df.printSchema()"
   ]
  },
  {
   "cell_type": "code",
   "execution_count": null,
   "id": "13",
   "metadata": {},
   "outputs": [],
   "source": [
    "new_reported_crimes_df.show(5)"
   ]
  }
 ],
 "metadata": {
  "kernelspec": {
   "display_name": "Python 3 (ipykernel)",
   "language": "python",
   "name": "python3"
  },
  "language_info": {
   "codemirror_mode": {
    "name": "ipython",
    "version": 3
   },
   "file_extension": ".py",
   "mimetype": "text/x-python",
   "name": "python",
   "nbconvert_exporter": "python",
   "pygments_lexer": "ipython3",
   "version": "3.8.11"
  }
 },
 "nbformat": 4,
 "nbformat_minor": 5
}
